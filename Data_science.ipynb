{
 "cells": [
  {
   "cell_type": "markdown",
   "id": "ea292fa0",
   "metadata": {},
   "source": [
    "<h1>My Jupyter Notebook on IBM Watson Studio</h1>"
   ]
  },
  {
   "cell_type": "markdown",
   "id": "29722ad4",
   "metadata": {},
   "source": [
    "<b>Sumit Dutta</b><br>\n",
    "Desired occupation - Data Scientist"
   ]
  },
  {
   "cell_type": "markdown",
   "id": "977bfe9c",
   "metadata": {},
   "source": [
    "<i>I am interested in data science because I would love to contribute towards affordable and quality healthcare in the future.</i>"
   ]
  },
  {
   "cell_type": "markdown",
   "id": "aeb34b76",
   "metadata": {},
   "source": [
    "<h3>The below should print \"Hello World\"</h3>"
   ]
  },
  {
   "cell_type": "code",
   "execution_count": 1,
   "id": "d50057c3",
   "metadata": {},
   "outputs": [
    {
     "name": "stdout",
     "output_type": "stream",
     "text": [
      "Hello World\n"
     ]
    }
   ],
   "source": [
    "print(\"Hello World\")"
   ]
  },
  {
   "cell_type": "markdown",
   "id": "7c71aed3",
   "metadata": {},
   "source": [
    "<h3>Horizontal rule</h3><br>\n",
    "<p>This is some text. This is some text. This is some text.</p><br>\n",
    "<hr style=\"width:50%;text-align:left;margin-left:0\"><br>\n",
    "<p>This is some text. This is some text. This is some text.</p><br>\n",
    "<h3>Bulleted List</h3><br>\n",
    "<ul>\n",
    "  <li>Coffee</li>\n",
    "  <li>Tea</li>\n",
    "  <li>Milk</li>\n",
    "</ul>\n",
    "<h3>Hyperlinks</h3><br>\n",
    "<a href=\"https://www.w3schools.com\">Visit W3Schools.com!</a>"
   ]
  }
 ],
 "metadata": {
  "kernelspec": {
   "display_name": "Python 3 (ipykernel)",
   "language": "python",
   "name": "python3"
  },
  "language_info": {
   "codemirror_mode": {
    "name": "ipython",
    "version": 3
   },
   "file_extension": ".py",
   "mimetype": "text/x-python",
   "name": "python",
   "nbconvert_exporter": "python",
   "pygments_lexer": "ipython3",
   "version": "3.11.1"
  }
 },
 "nbformat": 4,
 "nbformat_minor": 5
}
